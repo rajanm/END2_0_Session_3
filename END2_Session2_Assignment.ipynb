{
  "nbformat": 4,
  "nbformat_minor": 0,
  "metadata": {
    "colab": {
      "name": "END2_Session2_Assignment.ipynb",
      "provenance": [],
      "collapsed_sections": [],
      "authorship_tag": "ABX9TyP9YucrNdFFJhqkXr1dDduN",
      "include_colab_link": true
    },
    "kernelspec": {
      "name": "python3",
      "display_name": "Python 3"
    },
    "language_info": {
      "name": "python"
    },
    "accelerator": "GPU"
  },
  "cells": [
    {
      "cell_type": "markdown",
      "metadata": {
        "id": "view-in-github",
        "colab_type": "text"
      },
      "source": [
        "<a href=\"https://colab.research.google.com/github/rajanm/END2_0_Session_3/blob/main/END2_Session2_Assignment.ipynb\" target=\"_parent\"><img src=\"https://colab.research.google.com/assets/colab-badge.svg\" alt=\"Open In Colab\"/></a>"
      ]
    },
    {
      "cell_type": "markdown",
      "metadata": {
        "id": "nEbM9fvPzxbu"
      },
      "source": [
        "# MNIST Digit Recognition in PyTorch\n",
        "\n",
        "MNIST contains around 70,000 images of handwritten digits: 60,000 for training and 10,000 for testing. The images are grayscale, 28x28 pixels, and centered to reduce preprocessing and get started quicker. \n",
        "\n",
        "# Setting up the Environment\n",
        "\n",
        "We will be using PyTorch to train a convolutional neural network to recognize MNIST's handwritten digits. A GPU runtime in Collab is being used for this notebook."
      ]
    },
    {
      "cell_type": "code",
      "metadata": {
        "id": "ju3RTp4szoY_"
      },
      "source": [
        "import torch \n",
        "from torch import nn \n",
        "from torch.nn import functional as F\n",
        "from torch import optim\n",
        "import torchvision\n",
        "from torch.utils.data import DataLoader\n",
        "import numpy as np "
      ],
      "execution_count": null,
      "outputs": []
    },
    {
      "cell_type": "markdown",
      "metadata": {
        "id": "JlOQAHKO0HBf"
      },
      "source": [
        "# Preparing the Dataset\n",
        "\n",
        "With the imports in place we can go ahead and prepare the data we'll be using. But before that we'll define the hyperparameters we'll be using for the experiment. Here the number of epochs defines how many times we'll loop over the complete training dataset, while `learning_rate` is hyperparameter for the optimizer we'll be using later on.\n",
        "\n",
        "`torch.cuda.is_available()` is used to determine the device type on which the program is running on. This is used to copy data from GPU into CPU for matplot and numpy operations as they don't work on GPU.\n"
      ]
    },
    {
      "cell_type": "code",
      "metadata": {
        "nextjournal": {
          "id": "2b7f273e-ceac-4907-806f-8279409c43ba",
          "kind": "code",
          "language": "python"
        },
        "colab": {
          "base_uri": "https://localhost:8080/"
        },
        "id": "8PpzoNzewzce",
        "outputId": "1f5a8ba7-c412-43ef-83e1-adda708744d4"
      },
      "source": [
        "n_epochs = 20\n",
        "batch_size_train = 256\n",
        "batch_size_test = 128\n",
        "learning_rate = 0.01\n",
        "device = None\n",
        "losses = []\n",
        "\n",
        "random_seed = 1\n",
        "torch.backends.cudnn.enabled = False\n",
        "torch.manual_seed(random_seed)\n",
        "\n",
        "if torch.cuda.is_available():\n",
        "  device = torch.device(\"cuda\")\n",
        "else:\n",
        "  device = torch.device(\"cpu\")\n",
        "\n",
        "print('Device (cpu/gpu aka cuda): ', device)\n",
        "\n",
        "print('Using GPU runtime ', torch.cuda.is_available())"
      ],
      "execution_count": null,
      "outputs": [
        {
          "output_type": "stream",
          "text": [
            "Device (cpu/gpu aka cuda):  cuda\n",
            "Using GPU runtime  True\n"
          ],
          "name": "stdout"
        }
      ]
    },
    {
      "cell_type": "code",
      "metadata": {
        "colab": {
          "base_uri": "https://localhost:8080/"
        },
        "id": "H3P7axUm0jjf",
        "outputId": "90fe09e9-14a0-4835-ac52-461f674bd5f3"
      },
      "source": [
        "mnist_data = torchvision.datasets.MNIST(\"/files/\",download=True)\n",
        "print(mnist_data)"
      ],
      "execution_count": null,
      "outputs": [
        {
          "output_type": "stream",
          "text": [
            "Dataset MNIST\n",
            "    Number of datapoints: 60000\n",
            "    Root location: /files/\n",
            "    Split: Train\n"
          ],
          "name": "stdout"
        }
      ]
    },
    {
      "cell_type": "markdown",
      "metadata": {
        "id": "eW7LkxD91SCe"
      },
      "source": [
        "# Custom Dataset\n",
        "Create a custom data set that contains the MNIST images, labels and corresponding 60,000 random numbers. In the dataset, also add the targets from MNIST and the random integers."
      ]
    },
    {
      "cell_type": "code",
      "metadata": {
        "id": "li5QQgkA1N3p"
      },
      "source": [
        "class Dataset:\n",
        "\n",
        "  def __init__(self,train_data):\n",
        "    self.data = torch.unsqueeze((train_data.data/255.),1)\n",
        "    self.integers = torch.randint(0,10,size=[60_000,])\n",
        "    self.targets = mnist_data.targets\n",
        "    self.int_sum = self.integers + self.targets\n",
        "\n",
        "  def __getitem__(self,idx):\n",
        "\n",
        "    return self.data[idx],self.integers[idx].float(),self.targets[idx],self.int_sum[idx]\n",
        "\n",
        "  def __len__(self):\n",
        "\n",
        "    return len(self.targets)"
      ],
      "execution_count": null,
      "outputs": []
    },
    {
      "cell_type": "code",
      "metadata": {
        "colab": {
          "base_uri": "https://localhost:8080/"
        },
        "id": "OOxd6VsK1o1n",
        "outputId": "ff7cfe20-fd21-481d-f189-15410922563c"
      },
      "source": [
        "dataset = Dataset(mnist_data)\n",
        "print(dataset)"
      ],
      "execution_count": null,
      "outputs": [
        {
          "output_type": "stream",
          "text": [
            "<__main__.Dataset object at 0x7fdc6c743fd0>\n"
          ],
          "name": "stdout"
        }
      ]
    },
    {
      "cell_type": "markdown",
      "metadata": {
        "id": "TAxTEpaT1zPx"
      },
      "source": [
        "# Define the Network\n",
        "\n",
        "Now let's go ahead and define our network. We'll use two 2-D convolutional layers followed by two fully-connected (or *linear)* layers. As activation function we'll choose [rectified linear units](https://en.wikipedia.org/wiki/Rectifier_(neural_networks)) (ReLUs in short) and as a means of regularization we'll use two dropout layers. \n",
        "\n",
        "The rectified linear activation function overcomes the vanishing gradient problem, allowing models to learn faster and perform better. ReLU activation functions are a very popular choice among deep learning practitioners because they are very cheap to compute. ReLU is reasonable to use for image detection because it means the neural network is almost 100% certain that the input image one of the output categories.\n",
        "\n",
        "The model has two outputs - x1 and x2. x1 is the image recognition and x2 for the sum of the image recognition and random number."
      ]
    },
    {
      "cell_type": "code",
      "metadata": {
        "id": "BjzjufUQ11hi"
      },
      "source": [
        "class Net(nn.Module):\n",
        "\n",
        "  def __init__(self):\n",
        "\n",
        "    super().__init__()\n",
        "    self.conv1 = nn.Conv2d(1,10,kernel_size=5) #24\n",
        "    self.pool = nn.MaxPool2d(kernel_size=2) #12\n",
        "    \n",
        "    self.conv2 = nn.Conv2d(10,15,kernel_size=3) #10\n",
        "    self.lin1 = nn.Linear(10*10*15,50)\n",
        "    self.lin2 = nn.Linear(50,10)\n",
        "\n",
        "    self.lin3 = nn.Linear(11,20)\n",
        "    self.lin4 = nn.Linear(20,19)\n",
        "\n",
        "\n",
        "  def forward(self,img,num):\n",
        "\n",
        "    x1 = F.relu(self.pool(self.conv1(img)))\n",
        "    x1 = F.relu(self.conv2(x1))\n",
        "    x1 = x1.view(x1.size()[0],-1)\n",
        "    x1 = F.relu(self.lin1(x1))\n",
        "    x1 = self.lin2(x1)\n",
        "\n",
        "    x2 = torch.cat([x1,num[:,None]],dim=1).float()\n",
        "    x2 = F.relu(self.lin3(x2))\n",
        "    x2 = self.lin4(x2)\n",
        "\n",
        "    return x1,x2"
      ],
      "execution_count": null,
      "outputs": []
    },
    {
      "cell_type": "markdown",
      "metadata": {
        "id": "eP1_Wrf428Ef"
      },
      "source": [
        "# Training Data\n",
        "Load the custom dataset into a training dataset."
      ]
    },
    {
      "cell_type": "code",
      "metadata": {
        "colab": {
          "base_uri": "https://localhost:8080/"
        },
        "id": "k2KxEPbX28qj",
        "outputId": "4f420865-167f-4ee6-f566-9dc5a3d92185"
      },
      "source": [
        "train_loader = DataLoader(dataset,shuffle=True,batch_size=batch_size_train, \n",
        "                          num_workers=2)\n",
        "img,num,target,int_sum = iter(train_loader).next()\n",
        "img.shape,num.shape,target.shape,int_sum.shape"
      ],
      "execution_count": null,
      "outputs": [
        {
          "output_type": "execute_result",
          "data": {
            "text/plain": [
              "(torch.Size([256, 1, 28, 28]),\n",
              " torch.Size([256]),\n",
              " torch.Size([256]),\n",
              " torch.Size([256]))"
            ]
          },
          "metadata": {
            "tags": []
          },
          "execution_count": 7
        }
      ]
    },
    {
      "cell_type": "markdown",
      "metadata": {
        "id": "Fm3_7ION3srb"
      },
      "source": [
        "# Create the Model\n",
        "Create the model using the custom class defined."
      ]
    },
    {
      "cell_type": "code",
      "metadata": {
        "colab": {
          "base_uri": "https://localhost:8080/"
        },
        "id": "db_MK9fb3tWQ",
        "outputId": "50a975ce-4c46-4bc7-8067-28d0697c5330"
      },
      "source": [
        "net = Net()\n",
        "net(img,num)[0].shape,net(img,num)[1].shape"
      ],
      "execution_count": null,
      "outputs": [
        {
          "output_type": "execute_result",
          "data": {
            "text/plain": [
              "(torch.Size([256, 10]), torch.Size([256, 19]))"
            ]
          },
          "metadata": {
            "tags": []
          },
          "execution_count": 8
        }
      ]
    },
    {
      "cell_type": "markdown",
      "metadata": {
        "id": "flqoopXV4xP8"
      },
      "source": [
        "# Model Training\n",
        "Train the model on a GPU by specifying cuda.\n",
        "\n",
        "Adam is an algorithm for first-order gradient-based optimization. It has little memory requirements, is invariant to diagonal rescaling of the gradients, and is well suited for problems that are large in terms of data and/or parameters. \n",
        "\n",
        "The cross entropy loss criterion combines LogSoftmax and NLLLoss in one single class. This loss criterion is the default loss function to use for binary or multi-class classification problems. Cross-entropy will calculate a score that summarizes the average difference between the actual and predicted probability distributions for all classes in the problem.\n",
        "\n",
        "As a best practice, explicitly set the intent to train the model.\n",
        "\n",
        "The state of the model and the optimizer are also saved for using them in future for further training."
      ]
    },
    {
      "cell_type": "code",
      "metadata": {
        "id": "sY7aDqje4xxw"
      },
      "source": [
        "def train(epochs,lr,losses):\n",
        "  optimizer = torch.optim.AdamW(net.parameters(), lr=lr)\n",
        "  criterion = nn.CrossEntropyLoss()\n",
        "  \n",
        "  net.train()\n",
        "  for epoch in range(epochs):\n",
        "    \n",
        "    if torch.cuda.is_available() == True:   \n",
        "      net.cuda()\n",
        "        \n",
        "    for batch in train_loader:\n",
        "      \n",
        "      img,num,target,int_sum = batch \n",
        "      if torch.cuda.is_available() == True:   \n",
        "        out1,out2 = net(img.cuda(),num.cuda())\n",
        "        loss1 = criterion(out1,target.cuda())\n",
        "        loss2 = criterion(out2,int_sum.cuda())\n",
        "        loss = loss1 + loss2\n",
        "      else:\n",
        "        out1,out2 = net(img,num)\n",
        "        loss1 = criterion(out1,target)\n",
        "        loss2 = criterion(out2,int_sum)\n",
        "        loss = loss1 + loss2\n",
        "\n",
        "      optimizer.zero_grad()\n",
        "      loss.backward()\n",
        "      optimizer.step()\n",
        "      \n",
        "      torch.save(net.state_dict(), '/files/model.pth')\n",
        "      torch.save(optimizer.state_dict(), '/files/optimizer.pth')\n",
        "\n",
        "    losses.append(loss.item())\n",
        "    print(f\"epoch:{epoch+1} loss : {losses[epoch]}\")"
      ],
      "execution_count": null,
      "outputs": []
    },
    {
      "cell_type": "code",
      "metadata": {
        "colab": {
          "base_uri": "https://localhost:8080/"
        },
        "id": "xp8wIztx4_v3",
        "outputId": "d8f702d7-a00f-4314-e733-edf98c8b7120"
      },
      "source": [
        "train(n_epochs,learning_rate,losses)"
      ],
      "execution_count": null,
      "outputs": [
        {
          "output_type": "stream",
          "text": [
            "epoch:1 loss : 0.10954839736223221\n",
            "epoch:2 loss : 0.15206612646579742\n",
            "epoch:3 loss : 0.12322311848402023\n",
            "epoch:4 loss : 0.30127111077308655\n",
            "epoch:5 loss : 0.28681278228759766\n",
            "epoch:6 loss : 0.16947250068187714\n",
            "epoch:7 loss : 0.150152325630188\n",
            "epoch:8 loss : 0.08702650666236877\n",
            "epoch:9 loss : 0.24924281239509583\n",
            "epoch:10 loss : 0.3336752951145172\n",
            "epoch:11 loss : 0.16317225992679596\n",
            "epoch:12 loss : 0.06888280808925629\n",
            "epoch:13 loss : 0.14698024094104767\n",
            "epoch:14 loss : 0.08581708371639252\n",
            "epoch:15 loss : 0.09252146631479263\n",
            "epoch:16 loss : 0.17057819664478302\n",
            "epoch:17 loss : 0.20203369855880737\n",
            "epoch:18 loss : 0.06819264590740204\n",
            "epoch:19 loss : 0.09341076016426086\n",
            "epoch:20 loss : 0.17318454384803772\n"
          ],
          "name": "stdout"
        }
      ]
    },
    {
      "cell_type": "code",
      "metadata": {
        "colab": {
          "base_uri": "https://localhost:8080/"
        },
        "id": "fBv6DN_z9vPw",
        "outputId": "38be4168-d9b3-494a-d89e-34c6933ff4f4"
      },
      "source": [
        "!ls /files/ -alh\n",
        "!ls /files/MNIST/ -alh"
      ],
      "execution_count": null,
      "outputs": [
        {
          "output_type": "stream",
          "text": [
            "total 936K\n",
            "drwxr-xr-x 3 root root 4.0K May 21 17:17 .\n",
            "drwxr-xr-x 1 root root 4.0K May 21 16:46 ..\n",
            "drwxr-xr-x 4 root root 4.0K May 21 16:46 MNIST\n",
            "-rw-r--r-- 1 root root 308K May 21 17:53 model.pth\n",
            "-rw-r--r-- 1 root root 615K May 21 17:53 optimizer.pth\n",
            "total 16K\n",
            "drwxr-xr-x 4 root root 4.0K May 21 16:46 .\n",
            "drwxr-xr-x 3 root root 4.0K May 21 17:17 ..\n",
            "drwxr-xr-x 2 root root 4.0K May 21 16:46 processed\n",
            "drwxr-xr-x 2 root root 4.0K May 21 16:46 raw\n"
          ],
          "name": "stdout"
        }
      ]
    },
    {
      "cell_type": "markdown",
      "metadata": {
        "id": "Sel3p0eNBXb8"
      },
      "source": [
        "# Evaluating the Model's Performance\n",
        "\n",
        "With just 20 epochs of training we managed to reduce the loss. Let's plot our training loss curve."
      ]
    },
    {
      "cell_type": "code",
      "metadata": {
        "colab": {
          "base_uri": "https://localhost:8080/",
          "height": 283
        },
        "id": "_-6uciFB5J0R",
        "outputId": "d78e0217-eb4a-4723-f25b-fd7c87a7b170"
      },
      "source": [
        "import matplotlib.pyplot as plt\n",
        "plt.plot(losses)"
      ],
      "execution_count": null,
      "outputs": [
        {
          "output_type": "execute_result",
          "data": {
            "text/plain": [
              "[<matplotlib.lines.Line2D at 0x7fdc0a09d310>]"
            ]
          },
          "metadata": {
            "tags": []
          },
          "execution_count": 21
        },
        {
          "output_type": "display_data",
          "data": {
            "image/png": "[encoded data removed]",
            "text/plain": [
              "<Figure size 432x288 with 1 Axes>"
            ]
          },
          "metadata": {
            "tags": [],
            "needs_background": "light"
          }
        }
      ]
    }
  ]
}